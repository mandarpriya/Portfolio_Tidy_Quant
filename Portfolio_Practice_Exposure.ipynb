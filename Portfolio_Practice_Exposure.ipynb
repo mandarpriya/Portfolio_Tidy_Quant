{
  "nbformat": 4,
  "nbformat_minor": 0,
  "metadata": {
    "colab": {
      "name": "Portfolio_Practice_Exposure",
      "provenance": [],
      "collapsed_sections": []
    },
    "kernelspec": {
      "name": "ir",
      "display_name": "R"
    },
    "language_info": {
      "name": "R"
    }
  },
  "cells": [
    {
      "cell_type": "code",
      "execution_count": 1,
      "metadata": {
        "colab": {
          "base_uri": "https://localhost:8080/"
        },
        "id": "h2_gC1JWHOkI",
        "outputId": "4df65664-f3c5-4aa4-952e-f9289b6c780e"
      },
      "outputs": [
        {
          "output_type": "stream",
          "name": "stderr",
          "text": [
            "Installing package into ‘/usr/local/lib/R/site-library’\n",
            "(as ‘lib’ is unspecified)\n",
            "\n",
            "also installing the dependencies ‘future.apply’, ‘progressr’, ‘numDeriv’, ‘SQUAREM’, ‘lava’, ‘prodlim’, ‘globals’, ‘later’, ‘listenv’, ‘parallelly’, ‘gower’, ‘hardhat’, ‘ipred’, ‘furrr’, ‘htmlwidgets’, ‘crosstalk’, ‘promises’, ‘Rcpp’, ‘warp’, ‘BH’, ‘fracdiff’, ‘lmtest’, ‘tseries’, ‘urca’, ‘RcppArmadillo’, ‘RcppRoll’, ‘future’, ‘quadprog’, ‘zoo’, ‘recipes’, ‘rsample’, ‘plotly’, ‘padr’, ‘slider’, ‘anytime’, ‘forecast’, ‘tsfeatures’, ‘PerformanceAnalytics’, ‘quantmod’, ‘lazyeval’, ‘Quandl’, ‘riingo’, ‘alphavantager’, ‘timetk’, ‘timeDate’, ‘TTR’, ‘xts’\n",
            "\n",
            "\n"
          ]
        }
      ],
      "source": [
        "install.packages(\"tidyquant\")"
      ]
    },
    {
      "cell_type": "code",
      "source": [
        "install.packages(\"tidyverse\")"
      ],
      "metadata": {
        "colab": {
          "base_uri": "https://localhost:8080/"
        },
        "id": "MbwblJyRHrgb",
        "outputId": "b0daf0b2-a239-45bb-b895-91b3c5fbc60d"
      },
      "execution_count": 2,
      "outputs": [
        {
          "output_type": "stream",
          "name": "stderr",
          "text": [
            "Installing package into ‘/usr/local/lib/R/site-library’\n",
            "(as ‘lib’ is unspecified)\n",
            "\n"
          ]
        }
      ]
    },
    {
      "cell_type": "code",
      "source": [
        "install.packages(\"tidyr\")"
      ],
      "metadata": {
        "colab": {
          "base_uri": "https://localhost:8080/"
        },
        "id": "y5Qm4M95HwJR",
        "outputId": "31f0124f-0dc8-40ae-9433-97d1e220f243"
      },
      "execution_count": 3,
      "outputs": [
        {
          "output_type": "stream",
          "name": "stderr",
          "text": [
            "Installing package into ‘/usr/local/lib/R/site-library’\n",
            "(as ‘lib’ is unspecified)\n",
            "\n"
          ]
        }
      ]
    },
    {
      "cell_type": "code",
      "source": [
        "install.packages(\"dplyr\")"
      ],
      "metadata": {
        "colab": {
          "base_uri": "https://localhost:8080/"
        },
        "id": "IWT3ZjprHz-E",
        "outputId": "1ac64df1-bc46-43b5-cf39-0728f7766ab3"
      },
      "execution_count": 4,
      "outputs": [
        {
          "output_type": "stream",
          "name": "stderr",
          "text": [
            "Installing package into ‘/usr/local/lib/R/site-library’\n",
            "(as ‘lib’ is unspecified)\n",
            "\n"
          ]
        }
      ]
    },
    {
      "cell_type": "code",
      "source": [
        "install.packages(\"ggplot2\")"
      ],
      "metadata": {
        "colab": {
          "base_uri": "https://localhost:8080/"
        },
        "id": "9ItHnQAZH4SX",
        "outputId": "69059c6c-f64b-4bb9-ba41-adcfcc6a627c"
      },
      "execution_count": 5,
      "outputs": [
        {
          "output_type": "stream",
          "name": "stderr",
          "text": [
            "Installing package into ‘/usr/local/lib/R/site-library’\n",
            "(as ‘lib’ is unspecified)\n",
            "\n"
          ]
        }
      ]
    },
    {
      "cell_type": "code",
      "source": [
        "symbols<-c(\"AAPL\",\"DIS\",\"JPM\",\"JNJ\",\"FDX\",\"MCD\",\"WY\",\"DUK\")\n",
        "symbols"
      ],
      "metadata": {
        "colab": {
          "base_uri": "https://localhost:8080/",
          "height": 34
        },
        "id": "ilEAw-yCPAtH",
        "outputId": "29ce97f4-1230-4405-9d32-b92ca305aade"
      },
      "execution_count": 7,
      "outputs": [
        {
          "output_type": "display_data",
          "data": {
            "text/html": [
              "<style>\n",
              ".list-inline {list-style: none; margin:0; padding: 0}\n",
              ".list-inline>li {display: inline-block}\n",
              ".list-inline>li:not(:last-child)::after {content: \"\\00b7\"; padding: 0 .5ex}\n",
              "</style>\n",
              "<ol class=list-inline><li>'AAPL'</li><li>'DIS'</li><li>'JPM'</li><li>'JNJ'</li><li>'FDX'</li><li>'MCD'</li><li>'WY'</li><li>'DUK'</li></ol>\n"
            ],
            "text/markdown": "1. 'AAPL'\n2. 'DIS'\n3. 'JPM'\n4. 'JNJ'\n5. 'FDX'\n6. 'MCD'\n7. 'WY'\n8. 'DUK'\n\n\n",
            "text/latex": "\\begin{enumerate*}\n\\item 'AAPL'\n\\item 'DIS'\n\\item 'JPM'\n\\item 'JNJ'\n\\item 'FDX'\n\\item 'MCD'\n\\item 'WY'\n\\item 'DUK'\n\\end{enumerate*}\n",
            "text/plain": [
              "[1] \"AAPL\" \"DIS\"  \"JPM\"  \"JNJ\"  \"FDX\"  \"MCD\"  \"WY\"   \"DUK\" "
            ]
          },
          "metadata": {}
        }
      ]
    },
    {
      "cell_type": "code",
      "source": [
        "install.packages(\"kableExtra\")"
      ],
      "metadata": {
        "colab": {
          "base_uri": "https://localhost:8080/"
        },
        "id": "qgaNNpYkPdmO",
        "outputId": "ce82a55b-1c3a-45cf-981e-e17f727ea636"
      },
      "execution_count": 8,
      "outputs": [
        {
          "output_type": "stream",
          "name": "stderr",
          "text": [
            "Installing package into ‘/usr/local/lib/R/site-library’\n",
            "(as ‘lib’ is unspecified)\n",
            "\n",
            "also installing the dependency ‘webshot’\n",
            "\n",
            "\n"
          ]
        }
      ]
    },
    {
      "cell_type": "code",
      "source": [
        "install.packages(\"readr\")"
      ],
      "metadata": {
        "colab": {
          "base_uri": "https://localhost:8080/"
        },
        "id": "ydm3LQJIPmfc",
        "outputId": "e5a82411-33a2-4e97-f0ca-52a76bb8fb10"
      },
      "execution_count": 9,
      "outputs": [
        {
          "output_type": "stream",
          "name": "stderr",
          "text": [
            "Installing package into ‘/usr/local/lib/R/site-library’\n",
            "(as ‘lib’ is unspecified)\n",
            "\n"
          ]
        }
      ]
    },
    {
      "cell_type": "code",
      "source": [
        "install.packages(\"readxl\")"
      ],
      "metadata": {
        "colab": {
          "base_uri": "https://localhost:8080/"
        },
        "id": "Zw9EQd5wPqDm",
        "outputId": "d9ea0142-43a0-4169-fd1d-28965d6ec704"
      },
      "execution_count": 10,
      "outputs": [
        {
          "output_type": "stream",
          "name": "stderr",
          "text": [
            "Installing package into ‘/usr/local/lib/R/site-library’\n",
            "(as ‘lib’ is unspecified)\n",
            "\n"
          ]
        }
      ]
    },
    {
      "cell_type": "code",
      "source": [
        "library(tidyquant)\n",
        "library(tidyverse)\n",
        "library(tidyr)\n",
        "library(ggplot2)\n",
        "library(kableExtra)\n",
        "library(readxl)"
      ],
      "metadata": {
        "colab": {
          "base_uri": "https://localhost:8080/"
        },
        "id": "OB4KPWaUPwFB",
        "outputId": "f7efca51-1612-4582-c81c-8add4debab77"
      },
      "execution_count": 12,
      "outputs": [
        {
          "output_type": "stream",
          "name": "stderr",
          "text": [
            "Loading required package: lubridate\n",
            "\n",
            "Warning message in system(\"timedatectl\", intern = TRUE):\n",
            "“running command 'timedatectl' had status 1”\n",
            "\n",
            "Attaching package: ‘lubridate’\n",
            "\n",
            "\n",
            "The following objects are masked from ‘package:base’:\n",
            "\n",
            "    date, intersect, setdiff, union\n",
            "\n",
            "\n",
            "Loading required package: PerformanceAnalytics\n",
            "\n",
            "Loading required package: xts\n",
            "\n",
            "Loading required package: zoo\n",
            "\n",
            "\n",
            "Attaching package: ‘zoo’\n",
            "\n",
            "\n",
            "The following objects are masked from ‘package:base’:\n",
            "\n",
            "    as.Date, as.Date.numeric\n",
            "\n",
            "\n",
            "\n",
            "Attaching package: ‘PerformanceAnalytics’\n",
            "\n",
            "\n",
            "The following object is masked from ‘package:graphics’:\n",
            "\n",
            "    legend\n",
            "\n",
            "\n",
            "Loading required package: quantmod\n",
            "\n",
            "Loading required package: TTR\n",
            "\n",
            "Registered S3 method overwritten by 'quantmod':\n",
            "  method            from\n",
            "  as.zoo.data.frame zoo \n",
            "\n",
            "── \u001b[1mAttaching packages\u001b[22m ─────────────────────────────────────── tidyverse 1.3.1 ──\n",
            "\n",
            "\u001b[32m✔\u001b[39m \u001b[34mggplot2\u001b[39m 3.3.6     \u001b[32m✔\u001b[39m \u001b[34mpurrr  \u001b[39m 0.3.4\n",
            "\u001b[32m✔\u001b[39m \u001b[34mtibble \u001b[39m 3.1.7     \u001b[32m✔\u001b[39m \u001b[34mdplyr  \u001b[39m 1.0.9\n",
            "\u001b[32m✔\u001b[39m \u001b[34mtidyr  \u001b[39m 1.2.0     \u001b[32m✔\u001b[39m \u001b[34mstringr\u001b[39m 1.4.0\n",
            "\u001b[32m✔\u001b[39m \u001b[34mreadr  \u001b[39m 2.1.2     \u001b[32m✔\u001b[39m \u001b[34mforcats\u001b[39m 0.5.1\n",
            "\n",
            "── \u001b[1mConflicts\u001b[22m ────────────────────────────────────────── tidyverse_conflicts() ──\n",
            "\u001b[31m✖\u001b[39m \u001b[34mlubridate\u001b[39m::\u001b[32mas.difftime()\u001b[39m masks \u001b[34mbase\u001b[39m::as.difftime()\n",
            "\u001b[31m✖\u001b[39m \u001b[34mlubridate\u001b[39m::\u001b[32mdate()\u001b[39m        masks \u001b[34mbase\u001b[39m::date()\n",
            "\u001b[31m✖\u001b[39m \u001b[34mdplyr\u001b[39m::\u001b[32mfilter()\u001b[39m          masks \u001b[34mstats\u001b[39m::filter()\n",
            "\u001b[31m✖\u001b[39m \u001b[34mdplyr\u001b[39m::\u001b[32mfirst()\u001b[39m           masks \u001b[34mxts\u001b[39m::first()\n",
            "\u001b[31m✖\u001b[39m \u001b[34mlubridate\u001b[39m::\u001b[32mintersect()\u001b[39m   masks \u001b[34mbase\u001b[39m::intersect()\n",
            "\u001b[31m✖\u001b[39m \u001b[34mdplyr\u001b[39m::\u001b[32mlag()\u001b[39m             masks \u001b[34mstats\u001b[39m::lag()\n",
            "\u001b[31m✖\u001b[39m \u001b[34mdplyr\u001b[39m::\u001b[32mlast()\u001b[39m            masks \u001b[34mxts\u001b[39m::last()\n",
            "\u001b[31m✖\u001b[39m \u001b[34mlubridate\u001b[39m::\u001b[32msetdiff()\u001b[39m     masks \u001b[34mbase\u001b[39m::setdiff()\n",
            "\u001b[31m✖\u001b[39m \u001b[34mlubridate\u001b[39m::\u001b[32munion()\u001b[39m       masks \u001b[34mbase\u001b[39m::union()\n",
            "\n",
            "\n",
            "Attaching package: ‘kableExtra’\n",
            "\n",
            "\n",
            "The following object is masked from ‘package:dplyr’:\n",
            "\n",
            "    group_rows\n",
            "\n",
            "\n"
          ]
        }
      ]
    },
    {
      "cell_type": "code",
      "source": [
        "install.packages(\"httr\")"
      ],
      "metadata": {
        "colab": {
          "base_uri": "https://localhost:8080/"
        },
        "id": "HNdjksFHQVRf",
        "outputId": "47d23d48-6a43-403b-c004-9f613795bfa5"
      },
      "execution_count": 13,
      "outputs": [
        {
          "output_type": "stream",
          "name": "stderr",
          "text": [
            "Installing package into ‘/usr/local/lib/R/site-library’\n",
            "(as ‘lib’ is unspecified)\n",
            "\n"
          ]
        }
      ]
    },
    {
      "cell_type": "code",
      "source": [
        "install.packages(\"broom\")"
      ],
      "metadata": {
        "colab": {
          "base_uri": "https://localhost:8080/"
        },
        "id": "yUhG6azZQY_f",
        "outputId": "3c34dd0b-3cca-4c99-9f79-98a0857cf3a8"
      },
      "execution_count": 14,
      "outputs": [
        {
          "output_type": "stream",
          "name": "stderr",
          "text": [
            "Installing package into ‘/usr/local/lib/R/site-library’\n",
            "(as ‘lib’ is unspecified)\n",
            "\n"
          ]
        }
      ]
    },
    {
      "cell_type": "code",
      "source": [
        "library(httr)\n",
        "library(broom)"
      ],
      "metadata": {
        "id": "krx3WElKQklZ"
      },
      "execution_count": 15,
      "outputs": []
    },
    {
      "cell_type": "code",
      "source": [
        "prices<-tq_get(symbols, from = \"1985-01-01\")\n",
        "prices"
      ],
      "metadata": {
        "colab": {
          "base_uri": "https://localhost:8080/",
          "height": 1000
        },
        "id": "hzFyMCxyQqtU",
        "outputId": "f62444fe-4615-4866-bdc6-e954fa728c54"
      },
      "execution_count": 17,
      "outputs": [
        {
          "output_type": "display_data",
          "data": {
            "text/html": [
              "<table class=\"dataframe\">\n",
              "<caption>A tibble: 75680 × 8</caption>\n",
              "<thead>\n",
              "\t<tr><th scope=col>symbol</th><th scope=col>date</th><th scope=col>open</th><th scope=col>high</th><th scope=col>low</th><th scope=col>close</th><th scope=col>volume</th><th scope=col>adjusted</th></tr>\n",
              "\t<tr><th scope=col>&lt;chr&gt;</th><th scope=col>&lt;date&gt;</th><th scope=col>&lt;dbl&gt;</th><th scope=col>&lt;dbl&gt;</th><th scope=col>&lt;dbl&gt;</th><th scope=col>&lt;dbl&gt;</th><th scope=col>&lt;dbl&gt;</th><th scope=col>&lt;dbl&gt;</th></tr>\n",
              "</thead>\n",
              "<tbody>\n",
              "\t<tr><td>AAPL</td><td>1985-01-02</td><td>0.130022</td><td>0.130022</td><td>0.124442</td><td>0.124442</td><td>175302400</td><td>0.097130</td></tr>\n",
              "\t<tr><td>AAPL</td><td>1985-01-03</td><td>0.126674</td><td>0.130022</td><td>0.126674</td><td>0.126674</td><td>166611200</td><td>0.098872</td></tr>\n",
              "\t<tr><td>AAPL</td><td>1985-01-04</td><td>0.126674</td><td>0.127232</td><td>0.125000</td><td>0.126674</td><td>137267200</td><td>0.098872</td></tr>\n",
              "\t<tr><td>AAPL</td><td>1985-01-07</td><td>0.126674</td><td>0.127232</td><td>0.126116</td><td>0.126116</td><td>170912000</td><td>0.098436</td></tr>\n",
              "\t<tr><td>AAPL</td><td>1985-01-08</td><td>0.126116</td><td>0.127232</td><td>0.125000</td><td>0.125000</td><td>141120000</td><td>0.097565</td></tr>\n",
              "\t<tr><td>AAPL</td><td>1985-01-09</td><td>0.128348</td><td>0.130022</td><td>0.128348</td><td>0.128348</td><td>166723200</td><td>0.100178</td></tr>\n",
              "\t<tr><td>AAPL</td><td>1985-01-10</td><td>0.133929</td><td>0.134487</td><td>0.133929</td><td>0.133929</td><td>277065600</td><td>0.104535</td></tr>\n",
              "\t<tr><td>AAPL</td><td>1985-01-11</td><td>0.133929</td><td>0.135045</td><td>0.131696</td><td>0.132813</td><td>205049600</td><td>0.103664</td></tr>\n",
              "\t<tr><td>AAPL</td><td>1985-01-14</td><td>0.136719</td><td>0.137835</td><td>0.136719</td><td>0.136719</td><td>270435200</td><td>0.106712</td></tr>\n",
              "\t<tr><td>AAPL</td><td>1985-01-15</td><td>0.136719</td><td>0.138951</td><td>0.133929</td><td>0.133929</td><td>264969600</td><td>0.104535</td></tr>\n",
              "\t<tr><td>AAPL</td><td>1985-01-16</td><td>0.135045</td><td>0.137277</td><td>0.135045</td><td>0.135045</td><td>189884800</td><td>0.105406</td></tr>\n",
              "\t<tr><td>AAPL</td><td>1985-01-17</td><td>0.135045</td><td>0.137277</td><td>0.125558</td><td>0.125558</td><td>547523200</td><td>0.098001</td></tr>\n",
              "\t<tr><td>AAPL</td><td>1985-01-18</td><td>0.125558</td><td>0.130580</td><td>0.125000</td><td>0.127790</td><td>352665600</td><td>0.099743</td></tr>\n",
              "\t<tr><td>AAPL</td><td>1985-01-21</td><td>0.130580</td><td>0.131696</td><td>0.130580</td><td>0.130580</td><td>325427200</td><td>0.101921</td></tr>\n",
              "\t<tr><td>AAPL</td><td>1985-01-22</td><td>0.134487</td><td>0.135045</td><td>0.134487</td><td>0.134487</td><td>424838400</td><td>0.104970</td></tr>\n",
              "\t<tr><td>AAPL</td><td>1985-01-23</td><td>0.134487</td><td>0.135045</td><td>0.132254</td><td>0.132254</td><td>430505600</td><td>0.103227</td></tr>\n",
              "\t<tr><td>AAPL</td><td>1985-01-24</td><td>0.132254</td><td>0.132254</td><td>0.129464</td><td>0.129464</td><td>397062400</td><td>0.101050</td></tr>\n",
              "\t<tr><td>AAPL</td><td>1985-01-25</td><td>0.129464</td><td>0.132254</td><td>0.126674</td><td>0.132254</td><td>318460800</td><td>0.103227</td></tr>\n",
              "\t<tr><td>AAPL</td><td>1985-01-28</td><td>0.135045</td><td>0.136719</td><td>0.135045</td><td>0.135045</td><td>412182400</td><td>0.105406</td></tr>\n",
              "\t<tr><td>AAPL</td><td>1985-01-29</td><td>0.135045</td><td>0.136161</td><td>0.133371</td><td>0.133371</td><td>223731200</td><td>0.104099</td></tr>\n",
              "\t<tr><td>AAPL</td><td>1985-01-30</td><td>0.133371</td><td>0.136161</td><td>0.133371</td><td>0.133371</td><td>492441600</td><td>0.104099</td></tr>\n",
              "\t<tr><td>AAPL</td><td>1985-01-31</td><td>0.133371</td><td>0.133929</td><td>0.129464</td><td>0.129464</td><td>276236800</td><td>0.101050</td></tr>\n",
              "\t<tr><td>AAPL</td><td>1985-02-01</td><td>0.129464</td><td>0.130022</td><td>0.126674</td><td>0.127790</td><td>137737600</td><td>0.099743</td></tr>\n",
              "\t<tr><td>AAPL</td><td>1985-02-04</td><td>0.130580</td><td>0.131138</td><td>0.130580</td><td>0.130580</td><td>218019200</td><td>0.101921</td></tr>\n",
              "\t<tr><td>AAPL</td><td>1985-02-05</td><td>0.131696</td><td>0.133929</td><td>0.131696</td><td>0.131696</td><td>190041600</td><td>0.102792</td></tr>\n",
              "\t<tr><td>AAPL</td><td>1985-02-06</td><td>0.133929</td><td>0.133929</td><td>0.133929</td><td>0.133929</td><td>194432000</td><td>0.104535</td></tr>\n",
              "\t<tr><td>AAPL</td><td>1985-02-07</td><td>0.133929</td><td>0.135603</td><td>0.133371</td><td>0.133371</td><td>245481600</td><td>0.104099</td></tr>\n",
              "\t<tr><td>AAPL</td><td>1985-02-08</td><td>0.133371</td><td>0.133929</td><td>0.131696</td><td>0.133371</td><td>132025600</td><td>0.104099</td></tr>\n",
              "\t<tr><td>AAPL</td><td>1985-02-11</td><td>0.136161</td><td>0.137277</td><td>0.136161</td><td>0.136161</td><td>346953600</td><td>0.106277</td></tr>\n",
              "\t<tr><td>AAPL</td><td>1985-02-12</td><td>0.136161</td><td>0.136719</td><td>0.132813</td><td>0.132813</td><td>226508800</td><td>0.103664</td></tr>\n",
              "\t<tr><td>⋮</td><td>⋮</td><td>⋮</td><td>⋮</td><td>⋮</td><td>⋮</td><td>⋮</td><td>⋮</td></tr>\n",
              "\t<tr><td>DUK</td><td>2022-06-01</td><td>112.55</td><td>112.73</td><td>110.96</td><td>111.67</td><td>2552100</td><td>111.67</td></tr>\n",
              "\t<tr><td>DUK</td><td>2022-06-02</td><td>112.10</td><td>112.36</td><td>109.92</td><td>111.79</td><td>2712800</td><td>111.79</td></tr>\n",
              "\t<tr><td>DUK</td><td>2022-06-03</td><td>111.48</td><td>112.10</td><td>110.97</td><td>111.16</td><td>1547800</td><td>111.16</td></tr>\n",
              "\t<tr><td>DUK</td><td>2022-06-06</td><td>111.51</td><td>112.08</td><td>110.93</td><td>111.11</td><td>1483200</td><td>111.11</td></tr>\n",
              "\t<tr><td>DUK</td><td>2022-06-07</td><td>110.95</td><td>112.41</td><td>110.26</td><td>112.34</td><td>2113300</td><td>112.34</td></tr>\n",
              "\t<tr><td>DUK</td><td>2022-06-08</td><td>111.96</td><td>112.07</td><td>110.27</td><td>110.49</td><td>1810700</td><td>110.49</td></tr>\n",
              "\t<tr><td>DUK</td><td>2022-06-09</td><td>110.43</td><td>111.03</td><td>107.59</td><td>107.73</td><td>2379400</td><td>107.73</td></tr>\n",
              "\t<tr><td>DUK</td><td>2022-06-10</td><td>106.91</td><td>108.69</td><td>105.95</td><td>107.77</td><td>3342600</td><td>107.77</td></tr>\n",
              "\t<tr><td>DUK</td><td>2022-06-13</td><td>106.78</td><td>107.00</td><td>102.93</td><td>103.43</td><td>2752200</td><td>103.43</td></tr>\n",
              "\t<tr><td>DUK</td><td>2022-06-14</td><td>103.71</td><td>104.24</td><td> 99.66</td><td>100.94</td><td>3899500</td><td>100.94</td></tr>\n",
              "\t<tr><td>DUK</td><td>2022-06-15</td><td>102.01</td><td>102.12</td><td> 99.06</td><td>100.18</td><td>4039500</td><td>100.18</td></tr>\n",
              "\t<tr><td>DUK</td><td>2022-06-16</td><td> 99.03</td><td> 99.83</td><td> 97.86</td><td> 99.54</td><td>4134000</td><td> 99.54</td></tr>\n",
              "\t<tr><td>DUK</td><td>2022-06-17</td><td> 99.24</td><td> 99.96</td><td> 96.87</td><td> 97.82</td><td>5533000</td><td> 97.82</td></tr>\n",
              "\t<tr><td>DUK</td><td>2022-06-21</td><td> 97.94</td><td> 99.50</td><td> 97.62</td><td> 99.21</td><td>2877800</td><td> 99.21</td></tr>\n",
              "\t<tr><td>DUK</td><td>2022-06-22</td><td> 98.92</td><td>101.00</td><td> 98.69</td><td>100.16</td><td>2909900</td><td>100.16</td></tr>\n",
              "\t<tr><td>DUK</td><td>2022-06-23</td><td>100.67</td><td>103.65</td><td>100.55</td><td>103.41</td><td>3724300</td><td>103.41</td></tr>\n",
              "\t<tr><td>DUK</td><td>2022-06-24</td><td>103.67</td><td>104.80</td><td>103.30</td><td>104.53</td><td>2953800</td><td>104.53</td></tr>\n",
              "\t<tr><td>DUK</td><td>2022-06-27</td><td>104.03</td><td>105.37</td><td>103.73</td><td>105.20</td><td>1725000</td><td>105.20</td></tr>\n",
              "\t<tr><td>DUK</td><td>2022-06-28</td><td>105.76</td><td>106.83</td><td>105.36</td><td>105.70</td><td>2215700</td><td>105.70</td></tr>\n",
              "\t<tr><td>DUK</td><td>2022-06-29</td><td>105.73</td><td>106.32</td><td>105.31</td><td>106.01</td><td>1767300</td><td>106.01</td></tr>\n",
              "\t<tr><td>DUK</td><td>2022-06-30</td><td>105.27</td><td>107.94</td><td>105.04</td><td>107.21</td><td>3568900</td><td>107.21</td></tr>\n",
              "\t<tr><td>DUK</td><td>2022-07-01</td><td>107.75</td><td>109.79</td><td>107.21</td><td>109.62</td><td>2874200</td><td>109.62</td></tr>\n",
              "\t<tr><td>DUK</td><td>2022-07-05</td><td>109.70</td><td>109.70</td><td>104.54</td><td>106.34</td><td>2951900</td><td>106.34</td></tr>\n",
              "\t<tr><td>DUK</td><td>2022-07-06</td><td>106.67</td><td>108.43</td><td>106.08</td><td>107.58</td><td>1920800</td><td>107.58</td></tr>\n",
              "\t<tr><td>DUK</td><td>2022-07-07</td><td>107.82</td><td>108.22</td><td>106.54</td><td>106.83</td><td>1913500</td><td>106.83</td></tr>\n",
              "\t<tr><td>DUK</td><td>2022-07-08</td><td>106.88</td><td>107.07</td><td>105.74</td><td>105.91</td><td>1697600</td><td>105.91</td></tr>\n",
              "\t<tr><td>DUK</td><td>2022-07-11</td><td>106.04</td><td>107.99</td><td>105.86</td><td>107.96</td><td>2435700</td><td>107.96</td></tr>\n",
              "\t<tr><td>DUK</td><td>2022-07-12</td><td>107.58</td><td>108.98</td><td>107.13</td><td>107.67</td><td>2102700</td><td>107.67</td></tr>\n",
              "\t<tr><td>DUK</td><td>2022-07-13</td><td>106.93</td><td>108.20</td><td>106.72</td><td>107.24</td><td>2417200</td><td>107.24</td></tr>\n",
              "\t<tr><td>DUK</td><td>2022-07-14</td><td>105.27</td><td>107.22</td><td>105.19</td><td>106.95</td><td>2274900</td><td>106.95</td></tr>\n",
              "</tbody>\n",
              "</table>\n"
            ],
            "text/markdown": "\nA tibble: 75680 × 8\n\n| symbol &lt;chr&gt; | date &lt;date&gt; | open &lt;dbl&gt; | high &lt;dbl&gt; | low &lt;dbl&gt; | close &lt;dbl&gt; | volume &lt;dbl&gt; | adjusted &lt;dbl&gt; |\n|---|---|---|---|---|---|---|---|\n| AAPL | 1985-01-02 | 0.130022 | 0.130022 | 0.124442 | 0.124442 | 175302400 | 0.097130 |\n| AAPL | 1985-01-03 | 0.126674 | 0.130022 | 0.126674 | 0.126674 | 166611200 | 0.098872 |\n| AAPL | 1985-01-04 | 0.126674 | 0.127232 | 0.125000 | 0.126674 | 137267200 | 0.098872 |\n| AAPL | 1985-01-07 | 0.126674 | 0.127232 | 0.126116 | 0.126116 | 170912000 | 0.098436 |\n| AAPL | 1985-01-08 | 0.126116 | 0.127232 | 0.125000 | 0.125000 | 141120000 | 0.097565 |\n| AAPL | 1985-01-09 | 0.128348 | 0.130022 | 0.128348 | 0.128348 | 166723200 | 0.100178 |\n| AAPL | 1985-01-10 | 0.133929 | 0.134487 | 0.133929 | 0.133929 | 277065600 | 0.104535 |\n| AAPL | 1985-01-11 | 0.133929 | 0.135045 | 0.131696 | 0.132813 | 205049600 | 0.103664 |\n| AAPL | 1985-01-14 | 0.136719 | 0.137835 | 0.136719 | 0.136719 | 270435200 | 0.106712 |\n| AAPL | 1985-01-15 | 0.136719 | 0.138951 | 0.133929 | 0.133929 | 264969600 | 0.104535 |\n| AAPL | 1985-01-16 | 0.135045 | 0.137277 | 0.135045 | 0.135045 | 189884800 | 0.105406 |\n| AAPL | 1985-01-17 | 0.135045 | 0.137277 | 0.125558 | 0.125558 | 547523200 | 0.098001 |\n| AAPL | 1985-01-18 | 0.125558 | 0.130580 | 0.125000 | 0.127790 | 352665600 | 0.099743 |\n| AAPL | 1985-01-21 | 0.130580 | 0.131696 | 0.130580 | 0.130580 | 325427200 | 0.101921 |\n| AAPL | 1985-01-22 | 0.134487 | 0.135045 | 0.134487 | 0.134487 | 424838400 | 0.104970 |\n| AAPL | 1985-01-23 | 0.134487 | 0.135045 | 0.132254 | 0.132254 | 430505600 | 0.103227 |\n| AAPL | 1985-01-24 | 0.132254 | 0.132254 | 0.129464 | 0.129464 | 397062400 | 0.101050 |\n| AAPL | 1985-01-25 | 0.129464 | 0.132254 | 0.126674 | 0.132254 | 318460800 | 0.103227 |\n| AAPL | 1985-01-28 | 0.135045 | 0.136719 | 0.135045 | 0.135045 | 412182400 | 0.105406 |\n| AAPL | 1985-01-29 | 0.135045 | 0.136161 | 0.133371 | 0.133371 | 223731200 | 0.104099 |\n| AAPL | 1985-01-30 | 0.133371 | 0.136161 | 0.133371 | 0.133371 | 492441600 | 0.104099 |\n| AAPL | 1985-01-31 | 0.133371 | 0.133929 | 0.129464 | 0.129464 | 276236800 | 0.101050 |\n| AAPL | 1985-02-01 | 0.129464 | 0.130022 | 0.126674 | 0.127790 | 137737600 | 0.099743 |\n| AAPL | 1985-02-04 | 0.130580 | 0.131138 | 0.130580 | 0.130580 | 218019200 | 0.101921 |\n| AAPL | 1985-02-05 | 0.131696 | 0.133929 | 0.131696 | 0.131696 | 190041600 | 0.102792 |\n| AAPL | 1985-02-06 | 0.133929 | 0.133929 | 0.133929 | 0.133929 | 194432000 | 0.104535 |\n| AAPL | 1985-02-07 | 0.133929 | 0.135603 | 0.133371 | 0.133371 | 245481600 | 0.104099 |\n| AAPL | 1985-02-08 | 0.133371 | 0.133929 | 0.131696 | 0.133371 | 132025600 | 0.104099 |\n| AAPL | 1985-02-11 | 0.136161 | 0.137277 | 0.136161 | 0.136161 | 346953600 | 0.106277 |\n| AAPL | 1985-02-12 | 0.136161 | 0.136719 | 0.132813 | 0.132813 | 226508800 | 0.103664 |\n| ⋮ | ⋮ | ⋮ | ⋮ | ⋮ | ⋮ | ⋮ | ⋮ |\n| DUK | 2022-06-01 | 112.55 | 112.73 | 110.96 | 111.67 | 2552100 | 111.67 |\n| DUK | 2022-06-02 | 112.10 | 112.36 | 109.92 | 111.79 | 2712800 | 111.79 |\n| DUK | 2022-06-03 | 111.48 | 112.10 | 110.97 | 111.16 | 1547800 | 111.16 |\n| DUK | 2022-06-06 | 111.51 | 112.08 | 110.93 | 111.11 | 1483200 | 111.11 |\n| DUK | 2022-06-07 | 110.95 | 112.41 | 110.26 | 112.34 | 2113300 | 112.34 |\n| DUK | 2022-06-08 | 111.96 | 112.07 | 110.27 | 110.49 | 1810700 | 110.49 |\n| DUK | 2022-06-09 | 110.43 | 111.03 | 107.59 | 107.73 | 2379400 | 107.73 |\n| DUK | 2022-06-10 | 106.91 | 108.69 | 105.95 | 107.77 | 3342600 | 107.77 |\n| DUK | 2022-06-13 | 106.78 | 107.00 | 102.93 | 103.43 | 2752200 | 103.43 |\n| DUK | 2022-06-14 | 103.71 | 104.24 |  99.66 | 100.94 | 3899500 | 100.94 |\n| DUK | 2022-06-15 | 102.01 | 102.12 |  99.06 | 100.18 | 4039500 | 100.18 |\n| DUK | 2022-06-16 |  99.03 |  99.83 |  97.86 |  99.54 | 4134000 |  99.54 |\n| DUK | 2022-06-17 |  99.24 |  99.96 |  96.87 |  97.82 | 5533000 |  97.82 |\n| DUK | 2022-06-21 |  97.94 |  99.50 |  97.62 |  99.21 | 2877800 |  99.21 |\n| DUK | 2022-06-22 |  98.92 | 101.00 |  98.69 | 100.16 | 2909900 | 100.16 |\n| DUK | 2022-06-23 | 100.67 | 103.65 | 100.55 | 103.41 | 3724300 | 103.41 |\n| DUK | 2022-06-24 | 103.67 | 104.80 | 103.30 | 104.53 | 2953800 | 104.53 |\n| DUK | 2022-06-27 | 104.03 | 105.37 | 103.73 | 105.20 | 1725000 | 105.20 |\n| DUK | 2022-06-28 | 105.76 | 106.83 | 105.36 | 105.70 | 2215700 | 105.70 |\n| DUK | 2022-06-29 | 105.73 | 106.32 | 105.31 | 106.01 | 1767300 | 106.01 |\n| DUK | 2022-06-30 | 105.27 | 107.94 | 105.04 | 107.21 | 3568900 | 107.21 |\n| DUK | 2022-07-01 | 107.75 | 109.79 | 107.21 | 109.62 | 2874200 | 109.62 |\n| DUK | 2022-07-05 | 109.70 | 109.70 | 104.54 | 106.34 | 2951900 | 106.34 |\n| DUK | 2022-07-06 | 106.67 | 108.43 | 106.08 | 107.58 | 1920800 | 107.58 |\n| DUK | 2022-07-07 | 107.82 | 108.22 | 106.54 | 106.83 | 1913500 | 106.83 |\n| DUK | 2022-07-08 | 106.88 | 107.07 | 105.74 | 105.91 | 1697600 | 105.91 |\n| DUK | 2022-07-11 | 106.04 | 107.99 | 105.86 | 107.96 | 2435700 | 107.96 |\n| DUK | 2022-07-12 | 107.58 | 108.98 | 107.13 | 107.67 | 2102700 | 107.67 |\n| DUK | 2022-07-13 | 106.93 | 108.20 | 106.72 | 107.24 | 2417200 | 107.24 |\n| DUK | 2022-07-14 | 105.27 | 107.22 | 105.19 | 106.95 | 2274900 | 106.95 |\n\n",
            "text/latex": "A tibble: 75680 × 8\n\\begin{tabular}{llllllll}\n symbol & date & open & high & low & close & volume & adjusted\\\\\n <chr> & <date> & <dbl> & <dbl> & <dbl> & <dbl> & <dbl> & <dbl>\\\\\n\\hline\n\t AAPL & 1985-01-02 & 0.130022 & 0.130022 & 0.124442 & 0.124442 & 175302400 & 0.097130\\\\\n\t AAPL & 1985-01-03 & 0.126674 & 0.130022 & 0.126674 & 0.126674 & 166611200 & 0.098872\\\\\n\t AAPL & 1985-01-04 & 0.126674 & 0.127232 & 0.125000 & 0.126674 & 137267200 & 0.098872\\\\\n\t AAPL & 1985-01-07 & 0.126674 & 0.127232 & 0.126116 & 0.126116 & 170912000 & 0.098436\\\\\n\t AAPL & 1985-01-08 & 0.126116 & 0.127232 & 0.125000 & 0.125000 & 141120000 & 0.097565\\\\\n\t AAPL & 1985-01-09 & 0.128348 & 0.130022 & 0.128348 & 0.128348 & 166723200 & 0.100178\\\\\n\t AAPL & 1985-01-10 & 0.133929 & 0.134487 & 0.133929 & 0.133929 & 277065600 & 0.104535\\\\\n\t AAPL & 1985-01-11 & 0.133929 & 0.135045 & 0.131696 & 0.132813 & 205049600 & 0.103664\\\\\n\t AAPL & 1985-01-14 & 0.136719 & 0.137835 & 0.136719 & 0.136719 & 270435200 & 0.106712\\\\\n\t AAPL & 1985-01-15 & 0.136719 & 0.138951 & 0.133929 & 0.133929 & 264969600 & 0.104535\\\\\n\t AAPL & 1985-01-16 & 0.135045 & 0.137277 & 0.135045 & 0.135045 & 189884800 & 0.105406\\\\\n\t AAPL & 1985-01-17 & 0.135045 & 0.137277 & 0.125558 & 0.125558 & 547523200 & 0.098001\\\\\n\t AAPL & 1985-01-18 & 0.125558 & 0.130580 & 0.125000 & 0.127790 & 352665600 & 0.099743\\\\\n\t AAPL & 1985-01-21 & 0.130580 & 0.131696 & 0.130580 & 0.130580 & 325427200 & 0.101921\\\\\n\t AAPL & 1985-01-22 & 0.134487 & 0.135045 & 0.134487 & 0.134487 & 424838400 & 0.104970\\\\\n\t AAPL & 1985-01-23 & 0.134487 & 0.135045 & 0.132254 & 0.132254 & 430505600 & 0.103227\\\\\n\t AAPL & 1985-01-24 & 0.132254 & 0.132254 & 0.129464 & 0.129464 & 397062400 & 0.101050\\\\\n\t AAPL & 1985-01-25 & 0.129464 & 0.132254 & 0.126674 & 0.132254 & 318460800 & 0.103227\\\\\n\t AAPL & 1985-01-28 & 0.135045 & 0.136719 & 0.135045 & 0.135045 & 412182400 & 0.105406\\\\\n\t AAPL & 1985-01-29 & 0.135045 & 0.136161 & 0.133371 & 0.133371 & 223731200 & 0.104099\\\\\n\t AAPL & 1985-01-30 & 0.133371 & 0.136161 & 0.133371 & 0.133371 & 492441600 & 0.104099\\\\\n\t AAPL & 1985-01-31 & 0.133371 & 0.133929 & 0.129464 & 0.129464 & 276236800 & 0.101050\\\\\n\t AAPL & 1985-02-01 & 0.129464 & 0.130022 & 0.126674 & 0.127790 & 137737600 & 0.099743\\\\\n\t AAPL & 1985-02-04 & 0.130580 & 0.131138 & 0.130580 & 0.130580 & 218019200 & 0.101921\\\\\n\t AAPL & 1985-02-05 & 0.131696 & 0.133929 & 0.131696 & 0.131696 & 190041600 & 0.102792\\\\\n\t AAPL & 1985-02-06 & 0.133929 & 0.133929 & 0.133929 & 0.133929 & 194432000 & 0.104535\\\\\n\t AAPL & 1985-02-07 & 0.133929 & 0.135603 & 0.133371 & 0.133371 & 245481600 & 0.104099\\\\\n\t AAPL & 1985-02-08 & 0.133371 & 0.133929 & 0.131696 & 0.133371 & 132025600 & 0.104099\\\\\n\t AAPL & 1985-02-11 & 0.136161 & 0.137277 & 0.136161 & 0.136161 & 346953600 & 0.106277\\\\\n\t AAPL & 1985-02-12 & 0.136161 & 0.136719 & 0.132813 & 0.132813 & 226508800 & 0.103664\\\\\n\t ⋮ & ⋮ & ⋮ & ⋮ & ⋮ & ⋮ & ⋮ & ⋮\\\\\n\t DUK & 2022-06-01 & 112.55 & 112.73 & 110.96 & 111.67 & 2552100 & 111.67\\\\\n\t DUK & 2022-06-02 & 112.10 & 112.36 & 109.92 & 111.79 & 2712800 & 111.79\\\\\n\t DUK & 2022-06-03 & 111.48 & 112.10 & 110.97 & 111.16 & 1547800 & 111.16\\\\\n\t DUK & 2022-06-06 & 111.51 & 112.08 & 110.93 & 111.11 & 1483200 & 111.11\\\\\n\t DUK & 2022-06-07 & 110.95 & 112.41 & 110.26 & 112.34 & 2113300 & 112.34\\\\\n\t DUK & 2022-06-08 & 111.96 & 112.07 & 110.27 & 110.49 & 1810700 & 110.49\\\\\n\t DUK & 2022-06-09 & 110.43 & 111.03 & 107.59 & 107.73 & 2379400 & 107.73\\\\\n\t DUK & 2022-06-10 & 106.91 & 108.69 & 105.95 & 107.77 & 3342600 & 107.77\\\\\n\t DUK & 2022-06-13 & 106.78 & 107.00 & 102.93 & 103.43 & 2752200 & 103.43\\\\\n\t DUK & 2022-06-14 & 103.71 & 104.24 &  99.66 & 100.94 & 3899500 & 100.94\\\\\n\t DUK & 2022-06-15 & 102.01 & 102.12 &  99.06 & 100.18 & 4039500 & 100.18\\\\\n\t DUK & 2022-06-16 &  99.03 &  99.83 &  97.86 &  99.54 & 4134000 &  99.54\\\\\n\t DUK & 2022-06-17 &  99.24 &  99.96 &  96.87 &  97.82 & 5533000 &  97.82\\\\\n\t DUK & 2022-06-21 &  97.94 &  99.50 &  97.62 &  99.21 & 2877800 &  99.21\\\\\n\t DUK & 2022-06-22 &  98.92 & 101.00 &  98.69 & 100.16 & 2909900 & 100.16\\\\\n\t DUK & 2022-06-23 & 100.67 & 103.65 & 100.55 & 103.41 & 3724300 & 103.41\\\\\n\t DUK & 2022-06-24 & 103.67 & 104.80 & 103.30 & 104.53 & 2953800 & 104.53\\\\\n\t DUK & 2022-06-27 & 104.03 & 105.37 & 103.73 & 105.20 & 1725000 & 105.20\\\\\n\t DUK & 2022-06-28 & 105.76 & 106.83 & 105.36 & 105.70 & 2215700 & 105.70\\\\\n\t DUK & 2022-06-29 & 105.73 & 106.32 & 105.31 & 106.01 & 1767300 & 106.01\\\\\n\t DUK & 2022-06-30 & 105.27 & 107.94 & 105.04 & 107.21 & 3568900 & 107.21\\\\\n\t DUK & 2022-07-01 & 107.75 & 109.79 & 107.21 & 109.62 & 2874200 & 109.62\\\\\n\t DUK & 2022-07-05 & 109.70 & 109.70 & 104.54 & 106.34 & 2951900 & 106.34\\\\\n\t DUK & 2022-07-06 & 106.67 & 108.43 & 106.08 & 107.58 & 1920800 & 107.58\\\\\n\t DUK & 2022-07-07 & 107.82 & 108.22 & 106.54 & 106.83 & 1913500 & 106.83\\\\\n\t DUK & 2022-07-08 & 106.88 & 107.07 & 105.74 & 105.91 & 1697600 & 105.91\\\\\n\t DUK & 2022-07-11 & 106.04 & 107.99 & 105.86 & 107.96 & 2435700 & 107.96\\\\\n\t DUK & 2022-07-12 & 107.58 & 108.98 & 107.13 & 107.67 & 2102700 & 107.67\\\\\n\t DUK & 2022-07-13 & 106.93 & 108.20 & 106.72 & 107.24 & 2417200 & 107.24\\\\\n\t DUK & 2022-07-14 & 105.27 & 107.22 & 105.19 & 106.95 & 2274900 & 106.95\\\\\n\\end{tabular}\n",
            "text/plain": [
              "      symbol date       open     high     low      close    volume    adjusted\n",
              "1     AAPL   1985-01-02 0.130022 0.130022 0.124442 0.124442 175302400 0.097130\n",
              "2     AAPL   1985-01-03 0.126674 0.130022 0.126674 0.126674 166611200 0.098872\n",
              "3     AAPL   1985-01-04 0.126674 0.127232 0.125000 0.126674 137267200 0.098872\n",
              "4     AAPL   1985-01-07 0.126674 0.127232 0.126116 0.126116 170912000 0.098436\n",
              "5     AAPL   1985-01-08 0.126116 0.127232 0.125000 0.125000 141120000 0.097565\n",
              "6     AAPL   1985-01-09 0.128348 0.130022 0.128348 0.128348 166723200 0.100178\n",
              "7     AAPL   1985-01-10 0.133929 0.134487 0.133929 0.133929 277065600 0.104535\n",
              "8     AAPL   1985-01-11 0.133929 0.135045 0.131696 0.132813 205049600 0.103664\n",
              "9     AAPL   1985-01-14 0.136719 0.137835 0.136719 0.136719 270435200 0.106712\n",
              "10    AAPL   1985-01-15 0.136719 0.138951 0.133929 0.133929 264969600 0.104535\n",
              "11    AAPL   1985-01-16 0.135045 0.137277 0.135045 0.135045 189884800 0.105406\n",
              "12    AAPL   1985-01-17 0.135045 0.137277 0.125558 0.125558 547523200 0.098001\n",
              "13    AAPL   1985-01-18 0.125558 0.130580 0.125000 0.127790 352665600 0.099743\n",
              "14    AAPL   1985-01-21 0.130580 0.131696 0.130580 0.130580 325427200 0.101921\n",
              "15    AAPL   1985-01-22 0.134487 0.135045 0.134487 0.134487 424838400 0.104970\n",
              "16    AAPL   1985-01-23 0.134487 0.135045 0.132254 0.132254 430505600 0.103227\n",
              "17    AAPL   1985-01-24 0.132254 0.132254 0.129464 0.129464 397062400 0.101050\n",
              "18    AAPL   1985-01-25 0.129464 0.132254 0.126674 0.132254 318460800 0.103227\n",
              "19    AAPL   1985-01-28 0.135045 0.136719 0.135045 0.135045 412182400 0.105406\n",
              "20    AAPL   1985-01-29 0.135045 0.136161 0.133371 0.133371 223731200 0.104099\n",
              "21    AAPL   1985-01-30 0.133371 0.136161 0.133371 0.133371 492441600 0.104099\n",
              "22    AAPL   1985-01-31 0.133371 0.133929 0.129464 0.129464 276236800 0.101050\n",
              "23    AAPL   1985-02-01 0.129464 0.130022 0.126674 0.127790 137737600 0.099743\n",
              "24    AAPL   1985-02-04 0.130580 0.131138 0.130580 0.130580 218019200 0.101921\n",
              "25    AAPL   1985-02-05 0.131696 0.133929 0.131696 0.131696 190041600 0.102792\n",
              "26    AAPL   1985-02-06 0.133929 0.133929 0.133929 0.133929 194432000 0.104535\n",
              "27    AAPL   1985-02-07 0.133929 0.135603 0.133371 0.133371 245481600 0.104099\n",
              "28    AAPL   1985-02-08 0.133371 0.133929 0.131696 0.133371 132025600 0.104099\n",
              "29    AAPL   1985-02-11 0.136161 0.137277 0.136161 0.136161 346953600 0.106277\n",
              "30    AAPL   1985-02-12 0.136161 0.136719 0.132813 0.132813 226508800 0.103664\n",
              "⋮     ⋮      ⋮          ⋮        ⋮        ⋮        ⋮        ⋮         ⋮       \n",
              "75651 DUK    2022-06-01 112.55   112.73   110.96   111.67   2552100   111.67  \n",
              "75652 DUK    2022-06-02 112.10   112.36   109.92   111.79   2712800   111.79  \n",
              "75653 DUK    2022-06-03 111.48   112.10   110.97   111.16   1547800   111.16  \n",
              "75654 DUK    2022-06-06 111.51   112.08   110.93   111.11   1483200   111.11  \n",
              "75655 DUK    2022-06-07 110.95   112.41   110.26   112.34   2113300   112.34  \n",
              "75656 DUK    2022-06-08 111.96   112.07   110.27   110.49   1810700   110.49  \n",
              "75657 DUK    2022-06-09 110.43   111.03   107.59   107.73   2379400   107.73  \n",
              "75658 DUK    2022-06-10 106.91   108.69   105.95   107.77   3342600   107.77  \n",
              "75659 DUK    2022-06-13 106.78   107.00   102.93   103.43   2752200   103.43  \n",
              "75660 DUK    2022-06-14 103.71   104.24    99.66   100.94   3899500   100.94  \n",
              "75661 DUK    2022-06-15 102.01   102.12    99.06   100.18   4039500   100.18  \n",
              "75662 DUK    2022-06-16  99.03    99.83    97.86    99.54   4134000    99.54  \n",
              "75663 DUK    2022-06-17  99.24    99.96    96.87    97.82   5533000    97.82  \n",
              "75664 DUK    2022-06-21  97.94    99.50    97.62    99.21   2877800    99.21  \n",
              "75665 DUK    2022-06-22  98.92   101.00    98.69   100.16   2909900   100.16  \n",
              "75666 DUK    2022-06-23 100.67   103.65   100.55   103.41   3724300   103.41  \n",
              "75667 DUK    2022-06-24 103.67   104.80   103.30   104.53   2953800   104.53  \n",
              "75668 DUK    2022-06-27 104.03   105.37   103.73   105.20   1725000   105.20  \n",
              "75669 DUK    2022-06-28 105.76   106.83   105.36   105.70   2215700   105.70  \n",
              "75670 DUK    2022-06-29 105.73   106.32   105.31   106.01   1767300   106.01  \n",
              "75671 DUK    2022-06-30 105.27   107.94   105.04   107.21   3568900   107.21  \n",
              "75672 DUK    2022-07-01 107.75   109.79   107.21   109.62   2874200   109.62  \n",
              "75673 DUK    2022-07-05 109.70   109.70   104.54   106.34   2951900   106.34  \n",
              "75674 DUK    2022-07-06 106.67   108.43   106.08   107.58   1920800   107.58  \n",
              "75675 DUK    2022-07-07 107.82   108.22   106.54   106.83   1913500   106.83  \n",
              "75676 DUK    2022-07-08 106.88   107.07   105.74   105.91   1697600   105.91  \n",
              "75677 DUK    2022-07-11 106.04   107.99   105.86   107.96   2435700   107.96  \n",
              "75678 DUK    2022-07-12 107.58   108.98   107.13   107.67   2102700   107.67  \n",
              "75679 DUK    2022-07-13 106.93   108.20   106.72   107.24   2417200   107.24  \n",
              "75680 DUK    2022-07-14 105.27   107.22   105.19   106.95   2274900   106.95  "
            ]
          },
          "metadata": {}
        }
      ]
    },
    {
      "cell_type": "code",
      "source": [
        "asset_returns_tbl<-prices %>% select(symbol, date, adjusted) %>%\n",
        "group_by(symbol) %>%\n",
        "tq_transmute(select = adjusted,\n",
        "mutate_fun = periodReturn,\n",
        "period = \"monthly\",\n",
        "col_rename = \"ret\") %>%\n",
        "ungroup() %>%\n",
        "mutate(date = lubridate::rollback(date, roll_to_first = TRUE))\n"
      ],
      "metadata": {
        "id": "81yciiTPQ2Fc"
      },
      "execution_count": 23,
      "outputs": []
    },
    {
      "cell_type": "code",
      "source": [
        "install.packages(\"frenchdata\")"
      ],
      "metadata": {
        "colab": {
          "base_uri": "https://localhost:8080/"
        },
        "id": "PTUhn78PRrFH",
        "outputId": "c0c1951f-d925-4835-cb6d-5d5c029e7a39"
      },
      "execution_count": 24,
      "outputs": [
        {
          "output_type": "stream",
          "name": "stderr",
          "text": [
            "Installing package into ‘/usr/local/lib/R/site-library’\n",
            "(as ‘lib’ is unspecified)\n",
            "\n"
          ]
        }
      ]
    },
    {
      "cell_type": "code",
      "source": [
        "library(frenchdata)"
      ],
      "metadata": {
        "id": "uRIVFMDCRyvc"
      },
      "execution_count": 25,
      "outputs": []
    },
    {
      "cell_type": "code",
      "source": [
        "get_french_data_list()"
      ],
      "metadata": {
        "colab": {
          "base_uri": "https://localhost:8080/",
          "height": 481
        },
        "id": "zceb8VsIR1fw",
        "outputId": "7a7dbce3-67b7-439a-eba2-d4505870b1fa"
      },
      "execution_count": 26,
      "outputs": [
        {
          "output_type": "stream",
          "name": "stderr",
          "text": [
            "\n",
            "\n",
            "── Kenneth's French data library \n",
            "\n",
            "\u001b[36mℹ\u001b[39m Information collected from: https://mba.tuck.dartmouth.edu/pages/faculty/ken.french/data_library.html on Fri Jul 15 09:54:27 2022\n",
            "\n",
            "\n",
            "\n",
            "\n",
            "\n",
            "── Files list \n",
            "\n"
          ]
        },
        {
          "output_type": "display_data",
          "data": {
            "text/plain": [
              "\u001b[90m# A tibble: 297 × 3\u001b[39m\n",
              "   name                                                file_url      details_url\n",
              "   \u001b[3m\u001b[90m<chr>\u001b[39m\u001b[23m                                               \u001b[3m\u001b[90m<chr>\u001b[39m\u001b[23m         \u001b[3m\u001b[90m<chr>\u001b[39m\u001b[23m      \n",
              "\u001b[90m 1\u001b[39m Fama/French 3 Factors                               ftp/F-F_Rese… Data_Libra…\n",
              "\u001b[90m 2\u001b[39m Fama/French 3 Factors [Weekly]                      ftp/F-F_Rese… Data_Libra…\n",
              "\u001b[90m 3\u001b[39m Fama/French 3 Factors [Daily]                       ftp/F-F_Rese… Data_Libra…\n",
              "\u001b[90m 4\u001b[39m Fama/French 5 Factors (2x3)                         ftp/F-F_Rese… Data_Libra…\n",
              "\u001b[90m 5\u001b[39m Fama/French 5 Factors (2x3) [Daily]                 ftp/F-F_Rese… Data_Libra…\n",
              "\u001b[90m 6\u001b[39m Portfolios Formed on Size                           ftp/Portfoli… Data_Libra…\n",
              "\u001b[90m 7\u001b[39m Portfolios Formed on Size [ex.Dividends]            ftp/Portfoli… Data_Libra…\n",
              "\u001b[90m 8\u001b[39m Portfolios Formed on Size [Daily]                   ftp/Portfoli… Data_Libra…\n",
              "\u001b[90m 9\u001b[39m Portfolios Formed on Book-to-Market                 ftp/Portfoli… Data_Libra…\n",
              "\u001b[90m10\u001b[39m Portfolios Formed on Book-to-Market [ex. Dividends] ftp/Portfoli… Data_Libra…\n",
              "\u001b[90m# … with 287 more rows\u001b[39m"
            ]
          },
          "metadata": {}
        }
      ]
    },
    {
      "cell_type": "code",
      "source": [
        "# start_date and end_date to match with the returns\n",
        "start_date <- \"1985-01-01\"\n",
        "end_date   <- Sys.Date()"
      ],
      "metadata": {
        "id": "Y_WMdyRkSBvD"
      },
      "execution_count": 27,
      "outputs": []
    },
    {
      "cell_type": "code",
      "source": [
        "factors_ff_monthly<-download_french_data(\"Fama/French 5 Factors (2x3)\")$subsets$data[[1]] %>%\n",
        "        transmute(\n",
        "                date = floor_date(ymd(paste0(date, \"01\")), \"month\"),\n",
        "                rf = as.numeric(RF) / 100,\n",
        "                mkt_excess = as.numeric(`Mkt-RF`) / 100,\n",
        "                smb = as.numeric(SMB) / 100,\n",
        "                hml = as.numeric(HML) / 100,\n",
        "                cma = as.numeric(CMA) / 100\n",
        "        ) %>%\n",
        "        filter(date >= start_date & date <= end_date)\n"
      ],
      "metadata": {
        "colab": {
          "base_uri": "https://localhost:8080/"
        },
        "id": "zTBN_fybSIUa",
        "outputId": "9ff46cf7-9318-451a-d3a4-f6f6e270108c"
      },
      "execution_count": 33,
      "outputs": [
        {
          "output_type": "stream",
          "name": "stderr",
          "text": [
            "\u001b[1m\u001b[22mNew names:\n",
            "\u001b[36m•\u001b[39m `` -> `...1`\n",
            "\u001b[1m\u001b[22mNew names:\n",
            "\u001b[36m•\u001b[39m `` -> `...1`\n"
          ]
        }
      ]
    },
    {
      "cell_type": "code",
      "source": [
        "combined_data<-asset_returns_tbl %>%\n",
        "group_by(symbol) %>%\n",
        "left_join(factors_ff_monthly, by = \"date\")\n",
        "\n",
        "head(combined_data)"
      ],
      "metadata": {
        "colab": {
          "base_uri": "https://localhost:8080/",
          "height": 286
        },
        "id": "24jwZZW6TlO_",
        "outputId": "a5561efd-2403-4bd4-d9b6-1731c7416b8b"
      },
      "execution_count": 42,
      "outputs": [
        {
          "output_type": "display_data",
          "data": {
            "text/html": [
              "<table class=\"dataframe\">\n",
              "<caption>A grouped_df: 6 × 8</caption>\n",
              "<thead>\n",
              "\t<tr><th scope=col>symbol</th><th scope=col>date</th><th scope=col>ret</th><th scope=col>rf</th><th scope=col>mkt_excess</th><th scope=col>smb</th><th scope=col>hml</th><th scope=col>cma</th></tr>\n",
              "\t<tr><th scope=col>&lt;chr&gt;</th><th scope=col>&lt;date&gt;</th><th scope=col>&lt;dbl&gt;</th><th scope=col>&lt;dbl&gt;</th><th scope=col>&lt;dbl&gt;</th><th scope=col>&lt;dbl&gt;</th><th scope=col>&lt;dbl&gt;</th><th scope=col>&lt;dbl&gt;</th></tr>\n",
              "</thead>\n",
              "<tbody>\n",
              "\t<tr><td>AAPL</td><td>1985-01-01</td><td> 0.04035828</td><td>0.0065</td><td> 0.0799</td><td> 0.0350</td><td>-0.0533</td><td>-0.0341</td></tr>\n",
              "\t<tr><td>AAPL</td><td>1985-02-01</td><td>-0.14655121</td><td>0.0058</td><td> 0.0122</td><td> 0.0104</td><td>-0.0010</td><td> 0.0106</td></tr>\n",
              "\t<tr><td>AAPL</td><td>1985-03-01</td><td>-0.10606324</td><td>0.0062</td><td>-0.0084</td><td>-0.0139</td><td> 0.0407</td><td> 0.0288</td></tr>\n",
              "\t<tr><td>AAPL</td><td>1985-04-01</td><td>-0.03954912</td><td>0.0072</td><td>-0.0096</td><td>-0.0010</td><td> 0.0372</td><td> 0.0071</td></tr>\n",
              "\t<tr><td>AAPL</td><td>1985-05-01</td><td>-0.18234857</td><td>0.0066</td><td> 0.0509</td><td>-0.0231</td><td>-0.0094</td><td>-0.0149</td></tr>\n",
              "\t<tr><td>AAPL</td><td>1985-06-01</td><td> 0.03595791</td><td>0.0055</td><td> 0.0127</td><td> 0.0035</td><td> 0.0041</td><td>-0.0077</td></tr>\n",
              "</tbody>\n",
              "</table>\n"
            ],
            "text/markdown": "\nA grouped_df: 6 × 8\n\n| symbol &lt;chr&gt; | date &lt;date&gt; | ret &lt;dbl&gt; | rf &lt;dbl&gt; | mkt_excess &lt;dbl&gt; | smb &lt;dbl&gt; | hml &lt;dbl&gt; | cma &lt;dbl&gt; |\n|---|---|---|---|---|---|---|---|\n| AAPL | 1985-01-01 |  0.04035828 | 0.0065 |  0.0799 |  0.0350 | -0.0533 | -0.0341 |\n| AAPL | 1985-02-01 | -0.14655121 | 0.0058 |  0.0122 |  0.0104 | -0.0010 |  0.0106 |\n| AAPL | 1985-03-01 | -0.10606324 | 0.0062 | -0.0084 | -0.0139 |  0.0407 |  0.0288 |\n| AAPL | 1985-04-01 | -0.03954912 | 0.0072 | -0.0096 | -0.0010 |  0.0372 |  0.0071 |\n| AAPL | 1985-05-01 | -0.18234857 | 0.0066 |  0.0509 | -0.0231 | -0.0094 | -0.0149 |\n| AAPL | 1985-06-01 |  0.03595791 | 0.0055 |  0.0127 |  0.0035 |  0.0041 | -0.0077 |\n\n",
            "text/latex": "A grouped\\_df: 6 × 8\n\\begin{tabular}{llllllll}\n symbol & date & ret & rf & mkt\\_excess & smb & hml & cma\\\\\n <chr> & <date> & <dbl> & <dbl> & <dbl> & <dbl> & <dbl> & <dbl>\\\\\n\\hline\n\t AAPL & 1985-01-01 &  0.04035828 & 0.0065 &  0.0799 &  0.0350 & -0.0533 & -0.0341\\\\\n\t AAPL & 1985-02-01 & -0.14655121 & 0.0058 &  0.0122 &  0.0104 & -0.0010 &  0.0106\\\\\n\t AAPL & 1985-03-01 & -0.10606324 & 0.0062 & -0.0084 & -0.0139 &  0.0407 &  0.0288\\\\\n\t AAPL & 1985-04-01 & -0.03954912 & 0.0072 & -0.0096 & -0.0010 &  0.0372 &  0.0071\\\\\n\t AAPL & 1985-05-01 & -0.18234857 & 0.0066 &  0.0509 & -0.0231 & -0.0094 & -0.0149\\\\\n\t AAPL & 1985-06-01 &  0.03595791 & 0.0055 &  0.0127 &  0.0035 &  0.0041 & -0.0077\\\\\n\\end{tabular}\n",
            "text/plain": [
              "  symbol date       ret         rf     mkt_excess smb     hml     cma    \n",
              "1 AAPL   1985-01-01  0.04035828 0.0065  0.0799     0.0350 -0.0533 -0.0341\n",
              "2 AAPL   1985-02-01 -0.14655121 0.0058  0.0122     0.0104 -0.0010  0.0106\n",
              "3 AAPL   1985-03-01 -0.10606324 0.0062 -0.0084    -0.0139  0.0407  0.0288\n",
              "4 AAPL   1985-04-01 -0.03954912 0.0072 -0.0096    -0.0010  0.0372  0.0071\n",
              "5 AAPL   1985-05-01 -0.18234857 0.0066  0.0509    -0.0231 -0.0094 -0.0149\n",
              "6 AAPL   1985-06-01  0.03595791 0.0055  0.0127     0.0035  0.0041 -0.0077"
            ]
          },
          "metadata": {}
        }
      ]
    },
    {
      "cell_type": "code",
      "source": [
        "library(tidyverse)"
      ],
      "metadata": {
        "id": "831t9q2cT9_n"
      },
      "execution_count": 38,
      "outputs": []
    },
    {
      "cell_type": "code",
      "source": [
        "stocks_exposure<-combined_data %>%\n",
        "        nest(-symbol) %>%\n",
        "        mutate(model = map(data, ~ lm(ret ~ mkt_excess + smb + hml, data= .x)),\n",
        "               tidied = map(model, tidy)) %>% \n",
        "        unnest(tidied, .drop=TRUE) %>%\n",
        "        filter(term != \"(Intercept)\") %>%\n",
        "        select(symbol,term,estimate) %>%\n",
        "        spread(term,estimate) %>%\n",
        "        select(symbol,mkt_excess,smb,hml) %>%\n",
        "        ungroup() \n",
        "\n",
        "        "
      ],
      "metadata": {
        "colab": {
          "base_uri": "https://localhost:8080/"
        },
        "id": "rZsBJ_B0T0FB",
        "outputId": "dc647c04-0cfd-478a-e666-663726848af7"
      },
      "execution_count": 44,
      "outputs": [
        {
          "output_type": "stream",
          "name": "stderr",
          "text": [
            "Warning message:\n",
            "“All elements of `...` must be named.\n",
            "Did you want `data = -symbol`?”\n"
          ]
        }
      ]
    }
  ]
}